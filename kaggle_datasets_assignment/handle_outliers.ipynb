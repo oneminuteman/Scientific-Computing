{
 "cells": [
  {
   "cell_type": "code",
   "execution_count": 6,
   "metadata": {},
   "outputs": [
    {
     "name": "stdout",
     "output_type": "stream",
     "text": [
      "Outliers removed successfully\n",
      "Outliers removed successfully\n",
      "Outliers removed successfully\n",
      "               Age  Attendance (%)  Midterm_Score  Final_Score  \\\n",
      "count  5000.000000     4484.000000    5000.000000  5000.000000   \n",
      "mean     21.048400       75.431409      70.326844    69.640788   \n",
      "std       1.989786       14.372446      17.213209    17.238744   \n",
      "min      18.000000       50.010000      40.000000    40.000000   \n",
      "25%      19.000000       63.265000      55.457500    54.667500   \n",
      "50%      21.000000       75.725000      70.510000    69.735000   \n",
      "75%      23.000000       87.472500      84.970000    84.500000   \n",
      "max      24.000000      100.000000      99.980000    99.980000   \n",
      "\n",
      "       Assignments_Avg  Quizzes_Avg  Participation_Score  Projects_Score  \\\n",
      "count      4483.000000  5000.000000          5000.000000     5000.000000   \n",
      "mean         74.798673    74.910728             4.980024       74.924860   \n",
      "std          14.411799    14.504281             2.890136       14.423415   \n",
      "min          50.000000    50.030000             0.000000       50.010000   \n",
      "25%          62.090000    62.490000             2.440000       62.320000   \n",
      "50%          74.810000    74.695000             4.955000       74.980000   \n",
      "75%          86.970000    87.630000             7.500000       87.367500   \n",
      "max          99.980000    99.960000            10.000000      100.000000   \n",
      "\n",
      "       Total_Score  Study_Hours_per_Week  Stress_Level (1-10)  \\\n",
      "count  5000.000000           5000.000000           5000.00000   \n",
      "mean     75.121804             17.658860              5.48080   \n",
      "std      14.399941              7.275864              2.86155   \n",
      "min      50.020000              5.000000              1.00000   \n",
      "25%      62.835000             11.400000              3.00000   \n",
      "50%      75.395000             17.500000              5.00000   \n",
      "75%      87.652500             24.100000              8.00000   \n",
      "max      99.990000             30.000000             10.00000   \n",
      "\n",
      "       Sleep_Hours_per_Night  \n",
      "count            5000.000000  \n",
      "mean                6.488140  \n",
      "std                 1.452283  \n",
      "min                 4.000000  \n",
      "25%                 5.200000  \n",
      "50%                 6.500000  \n",
      "75%                 7.700000  \n",
      "max                 9.000000  \n"
     ]
    }
   ],
   "source": [
    "import pandas as pd\n",
    "import numpy as np\n",
    "import seaborn as sb\n",
    "\n",
    "data3 = pd.read_csv(r\"C:\\Users\\Hp\\oneminuteman\\coursework\\Scientific-Computing\\kaggle_datasets_assignment\\Students_Grading_Dataset.csv\")\n",
    "\n",
    "def remove_outliers_iqr(data3, column):\n",
    "    q1 = data3[column].quantile(0.25)\n",
    "    q3 = data3[column].quantile(0.75)\n",
    "    IQR = q3 - q1\n",
    "    lower_bound = q1 - 1.5 * IQR\n",
    "    upper_bound = q3 + 1.5 * IQR\n",
    "    return data3[(data3[column] >= lower_bound) & (data3[column] <= upper_bound)]\n",
    "\n",
    "for col in[\"Midterm_Score\", \"Projects_Score\", \"Total_Score\"]:\n",
    "    data3 = remove_outliers_iqr(data3, col)\n",
    "\n",
    "    print(\"Outliers removed successfully\")\n",
    "\n",
    "print(data3.describe())#summary stats\n",
    "\n",
    "\n"
   ]
  }
 ],
 "metadata": {
  "kernelspec": {
   "display_name": "venv",
   "language": "python",
   "name": "python3"
  },
  "language_info": {
   "codemirror_mode": {
    "name": "ipython",
    "version": 3
   },
   "file_extension": ".py",
   "mimetype": "text/x-python",
   "name": "python",
   "nbconvert_exporter": "python",
   "pygments_lexer": "ipython3",
   "version": "3.13.1"
  }
 },
 "nbformat": 4,
 "nbformat_minor": 2
}
