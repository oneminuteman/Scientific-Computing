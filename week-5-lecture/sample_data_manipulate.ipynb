{
 "cells": [
  {
   "cell_type": "code",
   "execution_count": 1,
   "metadata": {},
   "outputs": [
    {
     "name": "stdout",
     "output_type": "stream",
     "text": [
      "   temperature  humidity   category\n",
      "0           22        55    Science\n",
      "1           25        60       Math\n",
      "2           27        65    Physics\n",
      "3           30        70    Biology\n",
      "4           35        75  Chemistry\n",
      "   temperature  humidity   category\n",
      "0           22        55    Science\n",
      "1           25        60       Math\n",
      "2           27        65    Physics\n",
      "3           30        70    Biology\n",
      "4           35        75  Chemistry\n",
      "   temperature  humidity   category\n",
      "0           22        55    Science\n",
      "1           25        60       Math\n",
      "2           27        65    Physics\n",
      "3           30        70    Biology\n",
      "4           35        75  Chemistry\n"
     ]
    }
   ],
   "source": [
    "import pandas as pd\n",
    "\n",
    "data = pd.read_csv(r\"C:\\Users\\Hp\\oneminuteman\\coursework\\Scientific-Computing\\week-5-lecture\\sample_data.csv\")\n",
    "\n",
    "print(data)\n",
    "\n",
    "data_excel = pd.read_excel(r\"C:\\Users\\Hp\\oneminuteman\\coursework\\Scientific-Computing\\week-5-lecture\\data.xlsx\")\n",
    "\n",
    "print(data_excel)\n",
    "\n",
    "data_json = pd.read_json(r\"C:\\Users\\Hp\\oneminuteman\\coursework\\Scientific-Computing\\week-5-lecture\\data.json\")\n",
    "\n",
    "print(data_json)"
   ]
  },
  {
   "cell_type": "code",
   "execution_count": null,
   "metadata": {},
   "outputs": [],
   "source": []
  }
 ],
 "metadata": {
  "kernelspec": {
   "display_name": "venv",
   "language": "python",
   "name": "python3"
  },
  "language_info": {
   "codemirror_mode": {
    "name": "ipython",
    "version": 3
   },
   "file_extension": ".py",
   "mimetype": "text/x-python",
   "name": "python",
   "nbconvert_exporter": "python",
   "pygments_lexer": "ipython3",
   "version": "3.13.1"
  }
 },
 "nbformat": 4,
 "nbformat_minor": 2
}
