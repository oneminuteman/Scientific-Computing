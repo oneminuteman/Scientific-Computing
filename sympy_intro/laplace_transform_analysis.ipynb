{
 "cells": [
  {
   "cell_type": "code",
   "execution_count": 1,
   "metadata": {},
   "outputs": [
    {
     "name": "stdout",
     "output_type": "stream",
     "text": [
      "Factored Denominator: (s + 1)*(s + 2)\n",
      "Inverse Laplace Transform, h(t): exp(-t)*Heaviside(t) - exp(-2*t)*Heaviside(t)\n",
      "Poles of the system: [-2, -1]\n"
     ]
    }
   ],
   "source": [
    "import sympy as sp\n",
    "\n",
    "s = sp.Symbol('s')\n",
    "\n",
    "H_s = 1 / (s**2 + 3*s + 2)\n",
    "\n",
    "denominator = s**2 + 3*s + 2\n",
    "factored_denominator = sp.factor(denominator)\n",
    "print(\"Factored Denominator:\", factored_denominator)\n",
    "\n",
    "t = sp.Symbol('t')\n",
    "h_t = sp.inverse_laplace_transform(H_s, s, t)\n",
    "print(\"Inverse Laplace Transform, h(t):\", h_t)\n",
    "\n",
    "poles = sp.solve(denominator, s)\n",
    "print(\"Poles of the system:\", poles)\n"
   ]
  }
 ],
 "metadata": {
  "kernelspec": {
   "display_name": "venv",
   "language": "python",
   "name": "python3"
  },
  "language_info": {
   "codemirror_mode": {
    "name": "ipython",
    "version": 3
   },
   "file_extension": ".py",
   "mimetype": "text/x-python",
   "name": "python",
   "nbconvert_exporter": "python",
   "pygments_lexer": "ipython3",
   "version": "3.13.1"
  }
 },
 "nbformat": 4,
 "nbformat_minor": 2
}
