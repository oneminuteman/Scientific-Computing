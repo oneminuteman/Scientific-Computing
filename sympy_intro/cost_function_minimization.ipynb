{
 "cells": [
  {
   "cell_type": "code",
   "execution_count": 3,
   "metadata": {},
   "outputs": [
    {
     "name": "stdout",
     "output_type": "stream",
     "text": [
      "Gradient (First Derivative): 15*x**2 - 20*x + 4\n",
      "Critical Points: [2/3 - 2*sqrt(10)/15, 2*sqrt(10)/15 + 2/3]\n",
      "Second Derivative: 30*x - 20\n",
      "x = 2/3 - 2*sqrt(10)/15 is a Maximum (Second derivative is negative)\n",
      "x = 2*sqrt(10)/15 + 2/3 is a Minimum (Second derivative is positive)\n",
      "\n",
      "Decision-Making Interpretation:\n",
      "The optimal number of AI startups to fund for minimizing cost is approximately x = 2*sqrt(10)/15 + 2/3.\n"
     ]
    }
   ],
   "source": [
    "import sympy as sp\n",
    "\n",
    "x = sp.Symbol('x')\n",
    "\n",
    "C = 5*x**3 - 10*x**2 + 4*x + 3\n",
    "\n",
    "C_derivative = sp.diff(C, x)\n",
    "print(\"Gradient (First Derivative):\", C_derivative)\n",
    "\n",
    "critical_points = sp.solve(C_derivative, x)\n",
    "print(\"Critical Points:\", critical_points)\n",
    "\n",
    "C_second_derivative = sp.diff(C_derivative, x)\n",
    "print(\"Second Derivative:\", C_second_derivative)\n",
    "\n",
    "for point in critical_points:\n",
    "    second_derivative_value = C_second_derivative.subs(x, point)\n",
    "    if second_derivative_value > 0:\n",
    "        print(f\"x = {point} is a Minimum (Second derivative is positive)\")\n",
    "    elif second_derivative_value < 0:\n",
    "        print(f\"x = {point} is a Maximum (Second derivative is negative)\")\n",
    "    else:\n",
    "        print(f\"x = {point} is an Inflection Point (Second derivative is zero)\")\n",
    "\n",
    "\n",
    "print(\"\\nDecision-Making Interpretation:\")\n",
    "if critical_points:\n",
    "    min_x = min(critical_points, key=lambda p: C_second_derivative.subs(x, p) if C_second_derivative.subs(x, p) > 0 else float('inf'))\n",
    "    print(f\"The optimal number of AI startups to fund for minimizing cost is approximately x = {min_x}.\")\n",
    "else:\n",
    "    print(\"No minimum cost point found in the given function.\")\n"
   ]
  }
 ],
 "metadata": {
  "kernelspec": {
   "display_name": "venv",
   "language": "python",
   "name": "python3"
  },
  "language_info": {
   "codemirror_mode": {
    "name": "ipython",
    "version": 3
   },
   "file_extension": ".py",
   "mimetype": "text/x-python",
   "name": "python",
   "nbconvert_exporter": "python",
   "pygments_lexer": "ipython3",
   "version": "3.13.1"
  }
 },
 "nbformat": 4,
 "nbformat_minor": 2
}
