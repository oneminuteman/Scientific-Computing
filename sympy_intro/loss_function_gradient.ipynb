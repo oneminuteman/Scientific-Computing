{
 "cells": [
  {
   "cell_type": "code",
   "execution_count": 1,
   "metadata": {},
   "outputs": [
    {
     "name": "stdout",
     "output_type": "stream",
     "text": [
      "Gradient (First Derivative): 6*x + 2\n",
      "Critical Points: [-1/3]\n",
      "Second Derivative: 6\n",
      "x = -1/3 is a Minimum (Second derivative is positive)\n"
     ]
    }
   ],
   "source": [
    "import sympy as sp\n",
    "\n",
    "x = sp.Symbol('x')\n",
    "\n",
    "L = 3*x**2 + 2*x - 5\n",
    "L_derivative = sp.diff(L, x)\n",
    "print(\"Gradient (First Derivative):\", L_derivative)\n",
    "\n",
    "critical_points = sp.solve(L_derivative, x)\n",
    "print(\"Critical Points:\", critical_points)\n",
    "\n",
    "L_second_derivative = sp.diff(L_derivative, x)\n",
    "print(\"Second Derivative:\", L_second_derivative)\n",
    "\n",
    "for point in critical_points:\n",
    "    if L_second_derivative.subs(x, point) > 0:\n",
    "        print(f\"x = {point} is a Minimum (Second derivative is positive)\")\n",
    "    elif L_second_derivative.subs(x, point) < 0:\n",
    "        print(f\"x = {point} is a Maximum (Second derivative is negative)\")\n",
    "    else:\n",
    "        print(f\"x = {point} is an Inflection Point (Second derivative is zero)\")\n"
   ]
  }
 ],
 "metadata": {
  "kernelspec": {
   "display_name": "venv",
   "language": "python",
   "name": "python3"
  },
  "language_info": {
   "codemirror_mode": {
    "name": "ipython",
    "version": 3
   },
   "file_extension": ".py",
   "mimetype": "text/x-python",
   "name": "python",
   "nbconvert_exporter": "python",
   "pygments_lexer": "ipython3",
   "version": "3.13.1"
  }
 },
 "nbformat": 4,
 "nbformat_minor": 2
}
