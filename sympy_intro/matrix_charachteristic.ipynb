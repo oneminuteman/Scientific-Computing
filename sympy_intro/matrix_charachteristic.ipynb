{
 "cells": [
  {
   "cell_type": "code",
   "execution_count": 1,
   "metadata": {},
   "outputs": [
    {
     "name": "stdout",
     "output_type": "stream",
     "text": [
      "Determinant of A: 5\n",
      "Characteristic Polynomial: λ**2 - 5*λ + 5\n",
      "Eigenvalues of A: [5/2 - sqrt(5)/2, sqrt(5)/2 + 5/2]\n",
      "Substituting λ = 5/2 - sqrt(5)/2 into characteristic equation: 0\n",
      "Substituting λ = sqrt(5)/2 + 5/2 into characteristic equation: 0\n",
      "All eigenvalues correctly satisfy the characteristic equation.\n"
     ]
    }
   ],
   "source": [
    "import sympy as sp\n",
    "\n",
    "A = sp.Matrix([[2, 1], [1, 3]])\n",
    "\n",
    "det_A = A.det()\n",
    "print(\"Determinant of A:\", det_A)\n",
    "\n",
    "λ = sp.Symbol('λ')\n",
    "char_poly = A.charpoly(λ).as_expr()\n",
    "print(\"Characteristic Polynomial:\", char_poly)\n",
    "\n",
    "eigenvalues = A.eigenvals()\n",
    "eigenvalues_list = list(eigenvalues.keys())  # Extract eigenvalues\n",
    "print(\"Eigenvalues of A:\", eigenvalues_list)\n",
    "\n",
    "for eigenvalue in eigenvalues_list:\n",
    "    substituted = sp.simplify(char_poly.subs(λ, eigenvalue))  # Ensure simplification\n",
    "    print(f\"Substituting λ = {eigenvalue} into characteristic equation:\", substituted)\n",
    "    assert substituted == 0, \"Error: Eigenvalue does not satisfy characteristic equation!\"\n",
    "\n",
    "print(\"All eigenvalues correctly satisfy the characteristic equation.\")"
   ]
  }
 ],
 "metadata": {
  "kernelspec": {
   "display_name": "venv",
   "language": "python",
   "name": "python3"
  },
  "language_info": {
   "codemirror_mode": {
    "name": "ipython",
    "version": 3
   },
   "file_extension": ".py",
   "mimetype": "text/x-python",
   "name": "python",
   "nbconvert_exporter": "python",
   "pygments_lexer": "ipython3",
   "version": "3.13.1"
  }
 },
 "nbformat": 4,
 "nbformat_minor": 2
}
