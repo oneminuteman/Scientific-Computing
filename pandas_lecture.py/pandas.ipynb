import pandas as pd

data = pd.read_cscv(r"\C:\Users\Hp\Downloads\sample_data.csv")

print(data)

data_excel = pd.read_excel(r"\C:\Users\Hp\Downloads\data.xlsx")
print(data_excel)

data_json = pd.read_json(r"C:\Users\Hp\Downloads\data.json")
print(data_json)

data




