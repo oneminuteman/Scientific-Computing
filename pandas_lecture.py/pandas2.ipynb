{
 "cells": [
  {
   "cell_type": "code",
   "execution_count": null,
   "metadata": {},
   "outputs": [
    {
     "name": "stdout",
     "output_type": "stream",
     "text": [
      "   temperature  humidity   category\n",
      "0           22        55    Science\n",
      "1           25        60       Math\n",
      "2           27        65    Physics\n",
      "3           30        70    Biology\n",
      "4           35        75  Chemistry\n"
     ]
    }
   ],
   "source": [
    "import pandas as pd\n",
    "import openpyxl\n",
    "\n",
    "\n",
    "data = pd.read_csv(r\"C:\\Users\\Hp\\Downloads\\sample_data.csv\")\n",
    "\n",
    "print(data)\n",
    "\n",
    "\n",
    "\n",
    "\n"
   ]
  },
  {
   "cell_type": "code",
   "execution_count": null,
   "metadata": {},
   "outputs": [],
   "source": [
    "data_excel = pd.read_excel(r\"C:\\Users\\Hp\\Downloads\\data.xlsx\")\n",
    "print(data_excel)"
   ]
  },
  {
   "cell_type": "code",
   "execution_count": 14,
   "metadata": {},
   "outputs": [
    {
     "name": "stdout",
     "output_type": "stream",
     "text": [
      "   temperature  humidity   category\n",
      "0           22        55    Science\n",
      "1           25        60       Math\n",
      "2           27        65    Physics\n",
      "3           30        70    Biology\n",
      "4           35        75  Chemistry\n"
     ]
    }
   ],
   "source": [
    "data_json = pd.read_json(r\"C:\\Users\\Hp\\Downloads\\data.json\")\n",
    "print(data_json)"
   ]
  },
  {
   "cell_type": "code",
   "execution_count": null,
   "metadata": {},
   "outputs": [],
   "source": [
    "compute key statistics ,geneate visualization ,scatter plot ,corleation ,heat map,load and inspect data handle missing values and outliers \n",
    "\n"
   ]
  }
 ],
 "metadata": {
  "kernelspec": {
   "display_name": "Python 3",
   "language": "python",
   "name": "python3"
  },
  "language_info": {
   "codemirror_mode": {
    "name": "ipython",
    "version": 3
   },
   "file_extension": ".py",
   "mimetype": "text/x-python",
   "name": "python",
   "nbconvert_exporter": "python",
   "pygments_lexer": "ipython3",
   "version": "3.13.1"
  }
 },
 "nbformat": 4,
 "nbformat_minor": 2
}
