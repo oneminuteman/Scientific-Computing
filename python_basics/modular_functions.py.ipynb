{
 "cells": [
  {
   "cell_type": "code",
   "execution_count": null,
   "id": "41df3f36-4858-429a-bf6a-9b38a6772675",
   "metadata": {},
   "outputs": [],
   "source": [
    "#modular_functions.py"
   ]
  },
  {
   "cell_type": "code",
   "execution_count": 2,
   "id": "0e849f6c-cc1a-4892-a2fd-70e06eab2db4",
   "metadata": {},
   "outputs": [
    {
     "name": "stdout",
     "output_type": "stream",
     "text": [
      "Circle area (radius 5): 78.53981633974483\n",
      "Rectangle area (5x10): Invalid shape\n",
      "Triangle area (base 6, height 8): 24.0\n"
     ]
    }
   ],
   "source": [
    "import math\n",
    "def calculate_area(shape, dimension1, dimension2=0):\n",
    "    shape= shape.lower()\n",
    "\n",
    "    if shape == \"circle\":\n",
    "        return math.pi * (dimension1 ** 2)\n",
    "    elif shape  == \"rectangle\":\n",
    "        return dimension1 * dimension2\n",
    "    elif shape == \"triangle\":\n",
    "        return 0.5 * dimension1 * dimension2\n",
    "    else: \n",
    "        return \"Invalid shape\"\n",
    "\n",
    "print(\"Circle area (radius 5):\", calculate_area(\"circle\", 5))\n",
    "print(\"Rectangle area (5x10):\", calculate_area(\"recatangle\",5,10))\n",
    "print(\"Triangle area (base 6, height 8):\", calculate_area(\"triangle\",6,8))"
   ]
  },
  {
   "cell_type": "code",
   "execution_count": null,
   "id": "f3fda106-4f12-4cbc-b936-f27bcfe67b0b",
   "metadata": {},
   "outputs": [],
   "source": []
  }
 ],
 "metadata": {
  "kernelspec": {
   "display_name": "Python 3 (ipykernel)",
   "language": "python",
   "name": "python3"
  },
  "language_info": {
   "codemirror_mode": {
    "name": "ipython",
    "version": 3
   },
   "file_extension": ".py",
   "mimetype": "text/x-python",
   "name": "python",
   "nbconvert_exporter": "python",
   "pygments_lexer": "ipython3",
   "version": "3.13.1"
  }
 },
 "nbformat": 4,
 "nbformat_minor": 5
}
