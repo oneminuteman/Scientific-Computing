{
 "cells": [
  {
   "cell_type": "code",
   "execution_count": null,
   "id": "a4251a6f-bbff-4d06-ad15-7ec391452a1e",
   "metadata": {},
   "outputs": [],
   "source": [
    "#datatypes.py\n"
   ]
  },
  {
   "cell_type": "code",
   "execution_count": 6,
   "id": "b81b4bc3-8da7-452b-9f99-d8217a44b494",
   "metadata": {},
   "outputs": [
    {
     "name": "stdout",
     "output_type": "stream",
     "text": [
      "Type of int_var: <class 'int'>\n",
      "type of float_var: <class 'float'>\n",
      "type of complex_var: <class 'float'>\n",
      "type of list_var: <class 'list'>\n",
      "type of list_var: <class 'list'>\n",
      "type of bool_var: <class 'bool'>\n"
     ]
    }
   ],
   "source": [
    "int_var = 10\n",
    "print(\"Type of int_var:\", type(int_var))\n",
    "float_var = 10.5\n",
    "print(\"type of float_var:\", type(float_var))\n",
    "complex_var = 6 + 4j\n",
    "print(\"type of complex_var:\", type(float_var))\n",
    "list_var = [ 1, 2, 3]\n",
    "print(\"type of list_var:\", type(list_var))\n",
    "dict_var = [\"name:\", \"Victor\", \"Age:\", 20]\n",
    "print(\"type of list_var:\", type(list_var))\n",
    "bool_var = True\n",
    "print(\"type of bool_var:\", type(bool_var))"
   ]
  },
  {
   "cell_type": "code",
   "execution_count": 9,
   "id": "e3d9f91f-6d3f-4cb1-b662-194674f620c3",
   "metadata": {},
   "outputs": [
    {
     "name": "stdout",
     "output_type": "stream",
     "text": [
      "Integer to Float: 10.0 Type: <class 'float'>\n",
      "Float to Integer: 10 Type: <class 'int'>\n"
     ]
    }
   ],
   "source": [
    "int_to_float = float(int_var)\n",
    "float_to_int = int(float_var)\n",
    "print(\"Integer to Float:\", int_to_float, \"Type:\", type(int_to_float))\n",
    "print(\"Float to Integer:\", float_to_int, \"Type:\", type(float_to_int))"
   ]
  },
  {
   "cell_type": "code",
   "execution_count": null,
   "id": "195285b4-eef4-424b-a708-924c6cf2294a",
   "metadata": {},
   "outputs": [],
   "source": []
  }
 ],
 "metadata": {
  "kernelspec": {
   "display_name": "Python 3 (ipykernel)",
   "language": "python",
   "name": "python3"
  },
  "language_info": {
   "codemirror_mode": {
    "name": "ipython",
    "version": 3
   },
   "file_extension": ".py",
   "mimetype": "text/x-python",
   "name": "python",
   "nbconvert_exporter": "python",
   "pygments_lexer": "ipython3",
   "version": "3.13.1"
  }
 },
 "nbformat": 4,
 "nbformat_minor": 5
}
