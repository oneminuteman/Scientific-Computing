{
 "cells": [
  {
   "cell_type": "code",
   "execution_count": null,
   "id": "0ebc385d-2d24-4cc9-ae45-4cc2a30b29e2",
   "metadata": {},
   "outputs": [],
   "source": [
    "#control_structures.py"
   ]
  },
  {
   "cell_type": "code",
   "execution_count": 20,
   "id": "4bfbd275-ba6e-44ba-8beb-1a258484376d",
   "metadata": {},
   "outputs": [
    {
     "name": "stdin",
     "output_type": "stream",
     "text": [
      "Enter an integer:  45\n"
     ]
    },
    {
     "name": "stdout",
     "output_type": "stream",
     "text": [
      "The number 45 is odd.\n",
      "Even numbers from 1 to 50: [2, 4, 6, 8, 10, 12, 14, 16, 18, 20, 22, 24, 26, 28, 30, 32, 34, 36, 38, 40, 42, 44, 46, 48, 50]\n",
      "Counting down from 1 to 10: \n",
      "10 9 8 7 6 5 4 3 2 1 \n"
     ]
    }
   ],
   "source": [
    "def classify_number(n):  \n",
    "    if n % 2 == 0:  \n",
    "        return \"even\"  # ✅ Proper indentation\n",
    "    else:  \n",
    "        return \"odd\"\n",
    "user_input = int(input(\"Enter an integer: \"))\n",
    "print(f\"The number {user_input} is {classify_number(user_input)}.\")\n",
    "\n",
    "even_numbers = [num for num in range(1,51) if num % 2 == 0]\n",
    "print(\"Even numbers from 1 to 50:\", even_numbers)\n",
    "\n",
    "print(\"Counting down from 1 to 10: \")\n",
    "num = 10\n",
    "while num >= 1:\n",
    "    print(num, end=\" \")\n",
    "    num -= 1\n",
    "print()\n"
   ]
  },
  {
   "cell_type": "code",
   "execution_count": null,
   "id": "f4340e3e-3614-4034-96fc-592f85ba4c7f",
   "metadata": {},
   "outputs": [],
   "source": []
  },
  {
   "cell_type": "code",
   "execution_count": null,
   "id": "25aa1dde-f0a9-4282-9b47-46e600579038",
   "metadata": {},
   "outputs": [],
   "source": []
  },
  {
   "cell_type": "code",
   "execution_count": null,
   "id": "5fb3c0f1-ba07-42d3-adf4-4adf894cf7b9",
   "metadata": {},
   "outputs": [],
   "source": []
  }
 ],
 "metadata": {
  "kernelspec": {
   "display_name": "Python 3 (ipykernel)",
   "language": "python",
   "name": "python3"
  },
  "language_info": {
   "codemirror_mode": {
    "name": "ipython",
    "version": 3
   },
   "file_extension": ".py",
   "mimetype": "text/x-python",
   "name": "python",
   "nbconvert_exporter": "python",
   "pygments_lexer": "ipython3",
   "version": "3.13.1"
  }
 },
 "nbformat": 4,
 "nbformat_minor": 5
}
